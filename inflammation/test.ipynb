{
 "cells": [
  {
   "cell_type": "code",
   "execution_count": null,
   "metadata": {},
   "outputs": [],
   "source": []
  }
 ],
 "metadata": {
  "kernelspec": {
   "display_name": "Python 3.9.12 ('venv': venv)",
   "language": "python",
   "name": "python3"
  },
  "language_info": {
   "name": "python",
   "version": "3.9.12"
  },
  "orig_nbformat": 4,
  "vscode": {
   "interpreter": {
    "hash": "b75f90c7e223df7542c2726b34f8e05b8621960d5cb5a6b35ed7ec798c0a0a1e"
   }
  }
 },
 "nbformat": 4,
 "nbformat_minor": 2
}
